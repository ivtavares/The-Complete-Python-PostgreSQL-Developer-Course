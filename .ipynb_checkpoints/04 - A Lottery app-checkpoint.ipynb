{
 "cells": [
  {
   "cell_type": "markdown",
   "metadata": {},
   "source": [
    "# A Lottery app"
   ]
  },
  {
   "cell_type": "markdown",
   "metadata": {},
   "source": [
    "## The String split() method"
   ]
  },
  {
   "cell_type": "code",
   "execution_count": 2,
   "metadata": {},
   "outputs": [
    {
     "data": {
      "text/plain": [
       "'5,16,25,3,4,1'"
      ]
     },
     "execution_count": 2,
     "metadata": {},
     "output_type": "execute_result"
    }
   ],
   "source": [
    "numbers = '5,16,25,3,4,1'\n",
    "numbers"
   ]
  },
  {
   "cell_type": "code",
   "execution_count": 4,
   "metadata": {},
   "outputs": [
    {
     "data": {
      "text/plain": [
       "['5', '16', '25', '3', '4', '1']"
      ]
     },
     "execution_count": 4,
     "metadata": {},
     "output_type": "execute_result"
    }
   ],
   "source": [
    "numbers.split(',')"
   ]
  },
  {
   "cell_type": "code",
   "execution_count": 19,
   "metadata": {},
   "outputs": [
    {
     "name": "stdin",
     "output_type": "stream",
     "text": [
      "Enter your numbers separed by commas: 5,8,17,32,45\n"
     ]
    },
    {
     "data": {
      "text/plain": [
       "['5', '8', '17', '32', '45']"
      ]
     },
     "execution_count": 19,
     "metadata": {},
     "output_type": "execute_result"
    }
   ],
   "source": [
    "user_numbers = input('Enter your numbers separed by commas:')\n",
    "user_numbers = user_numbers.split(',')\n",
    "user_numbers"
   ]
  },
  {
   "cell_type": "markdown",
   "metadata": {},
   "source": [
    "## List comprehension in Python"
   ]
  },
  {
   "cell_type": "code",
   "execution_count": 20,
   "metadata": {},
   "outputs": [
    {
     "data": {
      "text/plain": [
       "[5, 8, 17, 32, 45]"
      ]
     },
     "execution_count": 20,
     "metadata": {},
     "output_type": "execute_result"
    }
   ],
   "source": [
    "user_numbers_as_int = []\n",
    "for numbers in user_numbers:\n",
    "    user_numbers_as_int.append(int(numbers))\n",
    "user_numbers_as_int"
   ]
  },
  {
   "cell_type": "code",
   "execution_count": 21,
   "metadata": {},
   "outputs": [
    {
     "data": {
      "text/plain": [
       "['5', '8', '17', '32', '45']"
      ]
     },
     "execution_count": 21,
     "metadata": {},
     "output_type": "execute_result"
    }
   ],
   "source": [
    "[number for number in user_numbers]"
   ]
  },
  {
   "cell_type": "code",
   "execution_count": 22,
   "metadata": {},
   "outputs": [
    {
     "data": {
      "text/plain": [
       "['55', '88', '1717', '3232', '4545']"
      ]
     },
     "execution_count": 22,
     "metadata": {},
     "output_type": "execute_result"
    }
   ],
   "source": [
    "[number*2 for number in user_numbers]"
   ]
  },
  {
   "cell_type": "code",
   "execution_count": 23,
   "metadata": {},
   "outputs": [
    {
     "data": {
      "text/plain": [
       "[5, 8, 17, 32, 45]"
      ]
     },
     "execution_count": 23,
     "metadata": {},
     "output_type": "execute_result"
    }
   ],
   "source": [
    "[int(number) for number in user_numbers]"
   ]
  },
  {
   "cell_type": "markdown",
   "metadata": {},
   "source": [
    "## Python Sets — what is a Set?"
   ]
  },
  {
   "cell_type": "code",
   "execution_count": 25,
   "metadata": {},
   "outputs": [
    {
     "data": {
      "text/plain": [
       "{3}"
      ]
     },
     "execution_count": 25,
     "metadata": {},
     "output_type": "execute_result"
    }
   ],
   "source": [
    "numbers = set()\n",
    "numbers.add(3)\n",
    "numbers"
   ]
  },
  {
   "cell_type": "code",
   "execution_count": 26,
   "metadata": {},
   "outputs": [
    {
     "data": {
      "text/plain": [
       "{3}"
      ]
     },
     "execution_count": 26,
     "metadata": {},
     "output_type": "execute_result"
    }
   ],
   "source": [
    "numbers.add(3)\n",
    "numbers"
   ]
  },
  {
   "cell_type": "code",
   "execution_count": 28,
   "metadata": {},
   "outputs": [
    {
     "data": {
      "text/plain": [
       "{3, 5, 6, 17}"
      ]
     },
     "execution_count": 28,
     "metadata": {},
     "output_type": "execute_result"
    }
   ],
   "source": [
    "lottery_numbers = {3, 5, 17, 6}\n",
    "lottery_numbers"
   ]
  },
  {
   "cell_type": "code",
   "execution_count": 29,
   "metadata": {},
   "outputs": [
    {
     "data": {
      "text/plain": [
       "{2, 3, 5, 11}"
      ]
     },
     "execution_count": 29,
     "metadata": {},
     "output_type": "execute_result"
    }
   ],
   "source": [
    "user_values = {3, 5, 11, 2}\n",
    "user_values"
   ]
  },
  {
   "cell_type": "code",
   "execution_count": 30,
   "metadata": {},
   "outputs": [
    {
     "data": {
      "text/plain": [
       "{3, 5}"
      ]
     },
     "execution_count": 30,
     "metadata": {},
     "output_type": "execute_result"
    }
   ],
   "source": [
    "lottery_numbers.intersection(user_values)"
   ]
  },
  {
   "cell_type": "markdown",
   "metadata": {},
   "source": [
    "## Set comprehension in Python"
   ]
  },
  {
   "cell_type": "code",
   "execution_count": 35,
   "metadata": {},
   "outputs": [
    {
     "name": "stdin",
     "output_type": "stream",
     "text": [
      "Enter your 6 numbers, separeted by commas:  1,4,6,10,12,20,6\n"
     ]
    },
    {
     "data": {
      "text/plain": [
       "{1, 4, 6, 10, 12, 20}"
      ]
     },
     "execution_count": 35,
     "metadata": {},
     "output_type": "execute_result"
    }
   ],
   "source": [
    "def get_player_numbers():\n",
    "    number_csv = input('Enter your 6 numbers, separeted by commas: ')\n",
    "    return {int(number) for number in number_csv.split(',')}\n",
    "get_player_numbers()"
   ]
  },
  {
   "cell_type": "markdown",
   "metadata": {},
   "source": [
    "## Creating our lottery numbers"
   ]
  },
  {
   "cell_type": "code",
   "execution_count": 55,
   "metadata": {},
   "outputs": [
    {
     "data": {
      "text/plain": [
       "{2, 3, 4, 8, 14, 18}"
      ]
     },
     "execution_count": 55,
     "metadata": {},
     "output_type": "execute_result"
    }
   ],
   "source": [
    "import random as rd\n",
    "def create_lottery_numbers():\n",
    "    values = set()\n",
    "    while len(values) <6:\n",
    "        values.add(rd.randint(1,20))\n",
    "    return values\n",
    "create_lottery_numbers()"
   ]
  },
  {
   "cell_type": "markdown",
   "metadata": {},
   "source": [
    "## Calculating the lottery winnings"
   ]
  },
  {
   "cell_type": "code",
   "execution_count": 65,
   "metadata": {},
   "outputs": [
    {
     "name": "stdin",
     "output_type": "stream",
     "text": [
      "Enter your 6 numbers, separated by commas:  1,4,8,12,16,18\n"
     ]
    },
    {
     "name": "stdout",
     "output_type": "stream",
     "text": [
      "You matched {8, 16, 18}. You won $1000000!\n"
     ]
    }
   ],
   "source": [
    "def menu():\n",
    "    played_numbers = get_player_numbers()\n",
    "    lottery_numbers = create_lottery_numbers()\n",
    "    matched_numbers = played_numbers.intersection(lottery_numbers)\n",
    "    print('You matched {numbers}. You won ${price}!'.format(numbers=matched_numbers, price=100 ** len(matched_numbers)))\n",
    "menu()    "
   ]
  },
  {
   "cell_type": "markdown",
   "metadata": {},
   "source": [
    "## Lottery App Code"
   ]
  },
  {
   "cell_type": "code",
   "execution_count": 64,
   "metadata": {},
   "outputs": [
    {
     "name": "stdin",
     "output_type": "stream",
     "text": [
      "Enter your 6 numbers, separated by commas:  2,8,10,13,16,17\n"
     ]
    },
    {
     "name": "stdout",
     "output_type": "stream",
     "text": [
      "You matched {17, 13}. You won $10000!\n"
     ]
    }
   ],
   "source": [
    "import random\n",
    "\n",
    "def menu():\n",
    "    # Ask player for numbers\n",
    "    user_numbers = get_player_numbers()\n",
    "\n",
    "    # Calculate lottery numbers\n",
    "    lottery_numbers = create_lottery_numbers()\n",
    "\n",
    "    # Print out the winnings\n",
    "    matched_numbers = user_numbers.intersection(lottery_numbers)\n",
    "    print(\"You matched {}. You won ${}!\".format(matched_numbers, 100 ** len(matched_numbers)))\n",
    "\n",
    "\n",
    "# User can pick 6 numbers\n",
    "def get_player_numbers():\n",
    "    number_csv = input(\"Enter your 6 numbers, separated by commas: \")\n",
    "    # Now, I want to create a set of integers from this number_csv\n",
    "    number_list = number_csv.split(\",\")  # ['1', '2', '3']\n",
    "    integer_set = {int(number) for number in number_list}\n",
    "    return integer_set\n",
    "\n",
    "\n",
    "# Lottery calculates 6 random numbers (between 1 and 20)\n",
    "def create_lottery_numbers():\n",
    "    values = set()  # Cannot initialise like so: {}\n",
    "    while len(values) < 6:\n",
    "        values.add(random.randint(1, 20))\n",
    "    return values\n",
    "\n",
    "menu()"
   ]
  }
 ],
 "metadata": {
  "kernelspec": {
   "display_name": "Python 3",
   "language": "python",
   "name": "python3"
  },
  "language_info": {
   "codemirror_mode": {
    "name": "ipython",
    "version": 3
   },
   "file_extension": ".py",
   "mimetype": "text/x-python",
   "name": "python",
   "nbconvert_exporter": "python",
   "pygments_lexer": "ipython3",
   "version": "3.7.1"
  }
 },
 "nbformat": 4,
 "nbformat_minor": 2
}

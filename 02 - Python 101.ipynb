{
 "cells": [
  {
   "cell_type": "markdown",
   "metadata": {},
   "source": [
    "# Python 101"
   ]
  },
  {
   "cell_type": "markdown",
   "metadata": {},
   "source": [
    "## Getting user input in Python"
   ]
  },
  {
   "cell_type": "code",
   "execution_count": 8,
   "metadata": {},
   "outputs": [
    {
     "name": "stdout",
     "output_type": "stream",
     "text": [
      "You have lived for 157680000 seconds. This corresponds to 5years\n"
     ]
    }
   ],
   "source": [
    "age = 5\n",
    "(\n",
    "    print('You have lived for ' + str(age * 365 * 24 * 60 * 60) \n",
    "          + ' seconds. This corresponds to ' + str(age) + 'years')\n",
    ")"
   ]
  },
  {
   "cell_type": "markdown",
   "metadata": {},
   "source": [
    "## The int() method to convert to Integers"
   ]
  },
  {
   "cell_type": "code",
   "execution_count": 1,
   "metadata": {},
   "outputs": [
    {
     "name": "stdin",
     "output_type": "stream",
     "text": [
      "Insira sua idade:  29\n"
     ]
    },
    {
     "name": "stdout",
     "output_type": "stream",
     "text": [
      "You have lived for 914544000 seconds.\n"
     ]
    }
   ],
   "source": [
    "age = input('Insira sua idade: ')\n",
    "print('You have lived for ' + str(int(age) * 365 * 24 * 60 * 60) + ' seconds.')"
   ]
  },
  {
   "cell_type": "markdown",
   "metadata": {},
   "source": [
    "## The format() method to simplify String formatting"
   ]
  },
  {
   "cell_type": "code",
   "execution_count": 3,
   "metadata": {},
   "outputs": [
    {
     "name": "stdin",
     "output_type": "stream",
     "text": [
      "Insira sua idade:  29\n"
     ]
    },
    {
     "name": "stdout",
     "output_type": "stream",
     "text": [
      "You have lived for 914544000 seconds.\n"
     ]
    }
   ],
   "source": [
    "age = input('Insira sua idade: ')\n",
    "print('You have lived for {} seconds.'.format(str(int(age) * 365 * 24 * 60 * 60)))"
   ]
  },
  {
   "cell_type": "code",
   "execution_count": 6,
   "metadata": {},
   "outputs": [
    {
     "name": "stdin",
     "output_type": "stream",
     "text": [
      "Insira sua idade:  30\n"
     ]
    },
    {
     "name": "stdout",
     "output_type": "stream",
     "text": [
      "You have lived for 946080000 seconds. This corresponds to 30 years\n"
     ]
    }
   ],
   "source": [
    "age = input('Insira sua idade: ')\n",
    "(\n",
    "    print('You have lived for {} seconds. This corresponds to {} years'\n",
    "          .format(str(int(age) * 365 * 24 * 60 * 60), age)\n",
    "         )\n",
    ")\n"
   ]
  },
  {
   "cell_type": "markdown",
   "metadata": {},
   "source": [
    "## Age Program Code"
   ]
  },
  {
   "cell_type": "code",
   "execution_count": null,
   "metadata": {},
   "outputs": [],
   "source": [
    "# First, ask the user for the age and store it in the `age` variable.\n",
    "# This variable is a string, because the input() method always returns a string.\n",
    "age = input('Enter your age: ')"
   ]
  },
  {
   "cell_type": "code",
   "execution_count": null,
   "metadata": {},
   "outputs": [],
   "source": [
    "# Then, print out the information to the user.\n",
    "# Here we use the format() method to replace each pair of curly braces\n",
    "#       for each argument of the format() method (separated by commas).\n",
    "print(\"You have lived for {} seconds. This corresponds to {} years.\".format(int(age) * 365 * 24 * 60 * 60, age))"
   ]
  }
 ],
 "metadata": {
  "kernelspec": {
   "display_name": "Python 3",
   "language": "python",
   "name": "python3"
  },
  "language_info": {
   "codemirror_mode": {
    "name": "ipython",
    "version": 3
   },
   "file_extension": ".py",
   "mimetype": "text/x-python",
   "name": "python",
   "nbconvert_exporter": "python",
   "pygments_lexer": "ipython3",
   "version": "3.7.1"
  }
 },
 "nbformat": 4,
 "nbformat_minor": 2
}
